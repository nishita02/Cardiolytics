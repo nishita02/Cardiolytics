{
 "cells": [
  {
   "cell_type": "code",
   "execution_count": 1,
   "id": "4de4bff8",
   "metadata": {},
   "outputs": [],
   "source": [
    "import numpy as np\n",
    "import pandas as pd\n",
    "import matplotlib.pyplot as plt\n",
    "import seaborn as sns\n",
    "%matplotlib inline\n",
    "\n",
    "from sklearn.model_selection import train_test_split\n",
    "from sklearn.preprocessing import StandardScaler\n",
    "from sklearn.metrics import classification_report\n",
    "from sklearn.metrics import confusion_matrix\n",
    "\n",
    "from sklearn.svm import SVC"
   ]
  },
  {
   "cell_type": "code",
   "execution_count": 2,
   "id": "36698ee5",
   "metadata": {},
   "outputs": [],
   "source": [
    "df = pd.read_csv('heart.csv')"
   ]
  },
  {
   "cell_type": "code",
   "execution_count": 3,
   "id": "d199691f",
   "metadata": {},
   "outputs": [
    {
     "data": {
      "text/html": [
       "<div>\n",
       "<style scoped>\n",
       "    .dataframe tbody tr th:only-of-type {\n",
       "        vertical-align: middle;\n",
       "    }\n",
       "\n",
       "    .dataframe tbody tr th {\n",
       "        vertical-align: top;\n",
       "    }\n",
       "\n",
       "    .dataframe thead th {\n",
       "        text-align: right;\n",
       "    }\n",
       "</style>\n",
       "<table border=\"1\" class=\"dataframe\">\n",
       "  <thead>\n",
       "    <tr style=\"text-align: right;\">\n",
       "      <th></th>\n",
       "      <th>age</th>\n",
       "      <th>sex</th>\n",
       "      <th>cp</th>\n",
       "      <th>trestbps</th>\n",
       "      <th>chol</th>\n",
       "      <th>fbs</th>\n",
       "      <th>restecg</th>\n",
       "      <th>thalach</th>\n",
       "      <th>exang</th>\n",
       "      <th>oldpeak</th>\n",
       "      <th>slope</th>\n",
       "      <th>ca</th>\n",
       "      <th>thal</th>\n",
       "      <th>target</th>\n",
       "    </tr>\n",
       "  </thead>\n",
       "  <tbody>\n",
       "    <tr>\n",
       "      <th>0</th>\n",
       "      <td>63</td>\n",
       "      <td>1</td>\n",
       "      <td>3</td>\n",
       "      <td>145</td>\n",
       "      <td>233</td>\n",
       "      <td>1</td>\n",
       "      <td>0</td>\n",
       "      <td>150</td>\n",
       "      <td>0</td>\n",
       "      <td>2.3</td>\n",
       "      <td>0</td>\n",
       "      <td>0</td>\n",
       "      <td>1</td>\n",
       "      <td>1</td>\n",
       "    </tr>\n",
       "    <tr>\n",
       "      <th>1</th>\n",
       "      <td>37</td>\n",
       "      <td>1</td>\n",
       "      <td>2</td>\n",
       "      <td>130</td>\n",
       "      <td>250</td>\n",
       "      <td>0</td>\n",
       "      <td>1</td>\n",
       "      <td>187</td>\n",
       "      <td>0</td>\n",
       "      <td>3.5</td>\n",
       "      <td>0</td>\n",
       "      <td>0</td>\n",
       "      <td>2</td>\n",
       "      <td>1</td>\n",
       "    </tr>\n",
       "    <tr>\n",
       "      <th>2</th>\n",
       "      <td>41</td>\n",
       "      <td>0</td>\n",
       "      <td>1</td>\n",
       "      <td>130</td>\n",
       "      <td>204</td>\n",
       "      <td>0</td>\n",
       "      <td>0</td>\n",
       "      <td>172</td>\n",
       "      <td>0</td>\n",
       "      <td>1.4</td>\n",
       "      <td>2</td>\n",
       "      <td>0</td>\n",
       "      <td>2</td>\n",
       "      <td>1</td>\n",
       "    </tr>\n",
       "    <tr>\n",
       "      <th>3</th>\n",
       "      <td>56</td>\n",
       "      <td>1</td>\n",
       "      <td>1</td>\n",
       "      <td>120</td>\n",
       "      <td>236</td>\n",
       "      <td>0</td>\n",
       "      <td>1</td>\n",
       "      <td>178</td>\n",
       "      <td>0</td>\n",
       "      <td>0.8</td>\n",
       "      <td>2</td>\n",
       "      <td>0</td>\n",
       "      <td>2</td>\n",
       "      <td>1</td>\n",
       "    </tr>\n",
       "    <tr>\n",
       "      <th>4</th>\n",
       "      <td>57</td>\n",
       "      <td>0</td>\n",
       "      <td>0</td>\n",
       "      <td>120</td>\n",
       "      <td>354</td>\n",
       "      <td>0</td>\n",
       "      <td>1</td>\n",
       "      <td>163</td>\n",
       "      <td>1</td>\n",
       "      <td>0.6</td>\n",
       "      <td>2</td>\n",
       "      <td>0</td>\n",
       "      <td>2</td>\n",
       "      <td>1</td>\n",
       "    </tr>\n",
       "  </tbody>\n",
       "</table>\n",
       "</div>"
      ],
      "text/plain": [
       "   age  sex  cp  trestbps  chol  fbs  restecg  thalach  exang  oldpeak  slope  \\\n",
       "0   63    1   3       145   233    1        0      150      0      2.3      0   \n",
       "1   37    1   2       130   250    0        1      187      0      3.5      0   \n",
       "2   41    0   1       130   204    0        0      172      0      1.4      2   \n",
       "3   56    1   1       120   236    0        1      178      0      0.8      2   \n",
       "4   57    0   0       120   354    0        1      163      1      0.6      2   \n",
       "\n",
       "   ca  thal  target  \n",
       "0   0     1       1  \n",
       "1   0     2       1  \n",
       "2   0     2       1  \n",
       "3   0     2       1  \n",
       "4   0     2       1  "
      ]
     },
     "execution_count": 3,
     "metadata": {},
     "output_type": "execute_result"
    }
   ],
   "source": [
    "df.head()"
   ]
  },
  {
   "cell_type": "markdown",
   "id": "7356d072",
   "metadata": {},
   "source": [
    " Attribute Information\n",
    " 1) age\n",
    " \n",
    " 2) sex ( 1: male, 0: female )\n",
    " \n",
    " 3) chest pain type (4 values)\n",
    " \n",
    " 4) resting blood pressure\n",
    " \n",
    " 5) serum cholestoral in mg/dl\n",
    " \n",
    " 6) fasting blood sugar > 120 mg/dl\n",
    " \n",
    " 7) resting electrocardiographic results (values 0,1,2)\n",
    " \n",
    " 8) maximum heart rate achieved\n",
    " \n",
    " 9) exercise induced angina\n",
    " \n",
    " 10) oldpeak = ST depression induced by exercise relative to rest\n",
    " \n",
    " 11) the slope of the peak exercise ST segment\n",
    " \n",
    " 12) number of major vessels (0-3) colored by flourosopy\n",
    " \n",
    " 13) thal: 0 = normal; 1 = fixed defect; 2 = reversable defect\n",
    " \n",
    " 14) target: 0= less chance of heart attack 1= more chance of heart attack"
   ]
  },
  {
   "cell_type": "code",
   "execution_count": 4,
   "id": "8c6bd3d9",
   "metadata": {},
   "outputs": [
    {
     "data": {
      "text/plain": [
       "(303, 14)"
      ]
     },
     "execution_count": 4,
     "metadata": {},
     "output_type": "execute_result"
    }
   ],
   "source": [
    "df.shape"
   ]
  },
  {
   "cell_type": "code",
   "execution_count": 5,
   "id": "816a373f",
   "metadata": {},
   "outputs": [
    {
     "data": {
      "text/plain": [
       "1    165\n",
       "0    138\n",
       "Name: target, dtype: int64"
      ]
     },
     "execution_count": 5,
     "metadata": {},
     "output_type": "execute_result"
    }
   ],
   "source": [
    "df['target'].value_counts()"
   ]
  },
  {
   "cell_type": "code",
   "execution_count": 6,
   "id": "cee23ee6",
   "metadata": {},
   "outputs": [
    {
     "name": "stdout",
     "output_type": "stream",
     "text": [
      "<class 'pandas.core.frame.DataFrame'>\n",
      "RangeIndex: 303 entries, 0 to 302\n",
      "Data columns (total 14 columns):\n",
      " #   Column    Non-Null Count  Dtype  \n",
      "---  ------    --------------  -----  \n",
      " 0   age       303 non-null    int64  \n",
      " 1   sex       303 non-null    int64  \n",
      " 2   cp        303 non-null    int64  \n",
      " 3   trestbps  303 non-null    int64  \n",
      " 4   chol      303 non-null    int64  \n",
      " 5   fbs       303 non-null    int64  \n",
      " 6   restecg   303 non-null    int64  \n",
      " 7   thalach   303 non-null    int64  \n",
      " 8   exang     303 non-null    int64  \n",
      " 9   oldpeak   303 non-null    float64\n",
      " 10  slope     303 non-null    int64  \n",
      " 11  ca        303 non-null    int64  \n",
      " 12  thal      303 non-null    int64  \n",
      " 13  target    303 non-null    int64  \n",
      "dtypes: float64(1), int64(13)\n",
      "memory usage: 33.3 KB\n"
     ]
    }
   ],
   "source": [
    "df.info()"
   ]
  },
  {
   "cell_type": "markdown",
   "id": "61b036f4",
   "metadata": {},
   "source": [
    "Target: Tagged as 1 (risky), 0 (normal) "
   ]
  },
  {
   "cell_type": "markdown",
   "id": "fe46af4b",
   "metadata": {},
   "source": [
    "### Checking duplicate values"
   ]
  },
  {
   "cell_type": "code",
   "execution_count": 7,
   "id": "a64397ed",
   "metadata": {},
   "outputs": [
    {
     "data": {
      "text/plain": [
       "1"
      ]
     },
     "execution_count": 7,
     "metadata": {},
     "output_type": "execute_result"
    }
   ],
   "source": [
    "df.duplicated().sum()"
   ]
  },
  {
   "cell_type": "code",
   "execution_count": 8,
   "id": "dd4bfc83",
   "metadata": {},
   "outputs": [],
   "source": [
    "# df.drop_duplicates(inplace = True)"
   ]
  },
  {
   "cell_type": "markdown",
   "id": "976efc0b",
   "metadata": {},
   "source": [
    "### Data Analysis (countplot, histograms, correlation heatmap, boxenplot)"
   ]
  },
  {
   "cell_type": "code",
   "execution_count": 9,
   "id": "8cadee98",
   "metadata": {},
   "outputs": [
    {
     "data": {
      "text/plain": [
       "[Text(0, 0, '138'), Text(0, 0, '165')]"
      ]
     },
     "execution_count": 9,
     "metadata": {},
     "output_type": "execute_result"
    },
    {
     "data": {
      "image/png": "[encoded data removed]",
      "text/plain": [
       "<Figure size 432x288 with 1 Axes>"
      ]
     },
     "metadata": {
      "needs_background": "light"
     },
     "output_type": "display_data"
    }
   ],
   "source": [
    "ax = sns.countplot(data = df, x = 'target', palette = ['green', 'orange', 'red'])\n",
    "ax.bar_label(ax.containers[0])"
   ]
  },
  {
   "cell_type": "code",
   "execution_count": 10,
   "id": "3c59a1ce",
   "metadata": {},
   "outputs": [
    {
     "data": {
      "image/png": "[encoded data removed]",
      "text/plain": [
       "<Figure size 720x720 with 16 Axes>"
      ]
     },
     "metadata": {
      "needs_background": "light"
     },
     "output_type": "display_data"
    }
   ],
   "source": [
    "df.hist(figsize = (10, 10), color = 'darkblue')\n",
    "plt.show()"
   ]
  },
  {
   "cell_type": "code",
   "execution_count": 11,
   "id": "5282c610",
   "metadata": {},
   "outputs": [
    {
     "data": {
      "text/plain": [
       "<AxesSubplot: >"
      ]
     },
     "execution_count": 11,
     "metadata": {},
     "output_type": "execute_result"
    },
    {
     "data": {
      "image/png": "[encoded data removed]",
      "text/plain": [
       "<Figure size 720x576 with 2 Axes>"
      ]
     },
     "metadata": {
      "needs_background": "light"
     },
     "output_type": "display_data"
    }
   ],
   "source": [
    "plt.figure(figsize = (10,8))\n",
    "sns.heatmap(df.corr(), square = True, annot = True, fmt = '.1f', cmap = 'Blues')"
   ]
  },
  {
   "cell_type": "code",
   "execution_count": 12,
   "id": "e761eb55",
   "metadata": {},
   "outputs": [
    {
     "data": {
      "text/plain": [
       "<AxesSubplot: xlabel='thalach', ylabel='chol'>"
      ]
     },
     "execution_count": 12,
     "metadata": {},
     "output_type": "execute_result"
    },
    {
     "data": {
      "image/png": "[encoded data removed]",
      "text/plain": [
       "<Figure size 432x288 with 1 Axes>"
      ]
     },
     "metadata": {
      "needs_background": "light"
     },
     "output_type": "display_data"
    }
   ],
   "source": [
    "sns.scatterplot(data =df, x ='thalach', y ='chol',hue='target')"
   ]
  },
  {
   "cell_type": "code",
   "execution_count": 13,
   "id": "e5c9eb9f",
   "metadata": {},
   "outputs": [
    {
     "data": {
      "image/png": "[encoded data removed]",
      "text/plain": [
       "<Figure size 1080x432 with 1 Axes>"
      ]
     },
     "metadata": {
      "needs_background": "light"
     },
     "output_type": "display_data"
    }
   ],
   "source": [
    "# this plot shows cholestrol has an outlier but it will not make much difference if we remove it \n",
    "# because its correlation with target is insignificant as shown in the heatmap above\n",
    "\n",
    "plt.figure(figsize = (15,6))\n",
    "sns.boxenplot(data = df)\n",
    "plt.xticks(rotation = 90)\n",
    "plt.show()"
   ]
  },
  {
   "cell_type": "markdown",
   "id": "75d5f8e6",
   "metadata": {},
   "source": [
    "### Removing outliers in chol (not necessary)"
   ]
  },
  {
   "cell_type": "code",
   "execution_count": 14,
   "id": "f37d1849",
   "metadata": {},
   "outputs": [
    {
     "data": {
      "text/html": [
       "<div>\n",
       "<style scoped>\n",
       "    .dataframe tbody tr th:only-of-type {\n",
       "        vertical-align: middle;\n",
       "    }\n",
       "\n",
       "    .dataframe tbody tr th {\n",
       "        vertical-align: top;\n",
       "    }\n",
       "\n",
       "    .dataframe thead th {\n",
       "        text-align: right;\n",
       "    }\n",
       "</style>\n",
       "<table border=\"1\" class=\"dataframe\">\n",
       "  <thead>\n",
       "    <tr style=\"text-align: right;\">\n",
       "      <th></th>\n",
       "      <th>age</th>\n",
       "      <th>sex</th>\n",
       "      <th>cp</th>\n",
       "      <th>trestbps</th>\n",
       "      <th>chol</th>\n",
       "      <th>fbs</th>\n",
       "      <th>restecg</th>\n",
       "      <th>thalach</th>\n",
       "      <th>exang</th>\n",
       "      <th>oldpeak</th>\n",
       "      <th>slope</th>\n",
       "      <th>ca</th>\n",
       "      <th>thal</th>\n",
       "      <th>target</th>\n",
       "    </tr>\n",
       "  </thead>\n",
       "  <tbody>\n",
       "    <tr>\n",
       "      <th>85</th>\n",
       "      <td>67</td>\n",
       "      <td>0</td>\n",
       "      <td>2</td>\n",
       "      <td>115</td>\n",
       "      <td>564</td>\n",
       "      <td>0</td>\n",
       "      <td>0</td>\n",
       "      <td>160</td>\n",
       "      <td>0</td>\n",
       "      <td>1.6</td>\n",
       "      <td>1</td>\n",
       "      <td>0</td>\n",
       "      <td>3</td>\n",
       "      <td>1</td>\n",
       "    </tr>\n",
       "  </tbody>\n",
       "</table>\n",
       "</div>"
      ],
      "text/plain": [
       "    age  sex  cp  trestbps  chol  fbs  restecg  thalach  exang  oldpeak  \\\n",
       "85   67    0   2       115   564    0        0      160      0      1.6   \n",
       "\n",
       "    slope  ca  thal  target  \n",
       "85      1   0     3       1  "
      ]
     },
     "execution_count": 14,
     "metadata": {},
     "output_type": "execute_result"
    }
   ],
   "source": [
    "df.loc[df['chol']==df['chol'].max()]"
   ]
  },
  {
   "cell_type": "code",
   "execution_count": 15,
   "id": "bb42f943",
   "metadata": {},
   "outputs": [],
   "source": [
    "df.drop(85, axis = 0, inplace = True)"
   ]
  },
  {
   "cell_type": "markdown",
   "id": "5a54306e",
   "metadata": {},
   "source": [
    "### Scaling the features using Standard Scaler (not taken in model training)"
   ]
  },
  {
   "cell_type": "markdown",
   "id": "588ac52c",
   "metadata": {},
   "source": [
    "The above plot shows the range of our feature attributes. All the features are in different ranges. To fit this in a model we must scale it to the same range.\n"
   ]
  },
  {
   "cell_type": "code",
   "execution_count": 16,
   "id": "d3ed62ec",
   "metadata": {},
   "outputs": [],
   "source": [
    "X = df.drop(columns = 'target')\n",
    "y = df['target']"
   ]
  },
  {
   "cell_type": "code",
   "execution_count": 17,
   "id": "8fc06d12",
   "metadata": {},
   "outputs": [
    {
     "data": {
      "text/plain": [
       "array([[ 0.95831542,  0.67744904,  1.97647049, ..., -2.27455518,\n",
       "        -0.71621621, -2.14609717],\n",
       "       [-1.91370468,  0.67744904,  1.005911  , ..., -2.27455518,\n",
       "        -0.71621621, -0.50942711],\n",
       "       [-1.47185543, -1.4761258 ,  0.0353515 , ...,  0.97327302,\n",
       "        -0.71621621, -0.50942711],\n",
       "       ...,\n",
       "       [ 1.51062697,  0.67744904, -0.93520799, ..., -0.65064108,\n",
       "         1.24122539,  1.12724296],\n",
       "       [ 0.29554155,  0.67744904, -0.93520799, ..., -0.65064108,\n",
       "         0.26250459,  1.12724296],\n",
       "       [ 0.29554155, -1.4761258 ,  0.0353515 , ..., -0.65064108,\n",
       "         0.26250459, -0.50942711]])"
      ]
     },
     "execution_count": 17,
     "metadata": {},
     "output_type": "execute_result"
    }
   ],
   "source": [
    "X_standardized = StandardScaler().fit_transform(X) \n",
    "X_standardized"
   ]
  },
  {
   "cell_type": "code",
   "execution_count": 18,
   "id": "fb4b44d8",
   "metadata": {},
   "outputs": [
    {
     "data": {
      "text/html": [
       "<div>\n",
       "<style scoped>\n",
       "    .dataframe tbody tr th:only-of-type {\n",
       "        vertical-align: middle;\n",
       "    }\n",
       "\n",
       "    .dataframe tbody tr th {\n",
       "        vertical-align: top;\n",
       "    }\n",
       "\n",
       "    .dataframe thead th {\n",
       "        text-align: right;\n",
       "    }\n",
       "</style>\n",
       "<table border=\"1\" class=\"dataframe\">\n",
       "  <thead>\n",
       "    <tr style=\"text-align: right;\">\n",
       "      <th></th>\n",
       "      <th>age</th>\n",
       "      <th>sex</th>\n",
       "      <th>cp</th>\n",
       "      <th>trestbps</th>\n",
       "      <th>chol</th>\n",
       "      <th>fbs</th>\n",
       "      <th>restecg</th>\n",
       "      <th>thalach</th>\n",
       "      <th>exang</th>\n",
       "      <th>oldpeak</th>\n",
       "      <th>slope</th>\n",
       "      <th>ca</th>\n",
       "      <th>thal</th>\n",
       "    </tr>\n",
       "  </thead>\n",
       "  <tbody>\n",
       "    <tr>\n",
       "      <th>0</th>\n",
       "      <td>0.958315</td>\n",
       "      <td>0.677449</td>\n",
       "      <td>1.976470</td>\n",
       "      <td>0.760692</td>\n",
       "      <td>-0.251858</td>\n",
       "      <td>2.389793</td>\n",
       "      <td>-1.009188</td>\n",
       "      <td>0.016920</td>\n",
       "      <td>-0.698344</td>\n",
       "      <td>1.087561</td>\n",
       "      <td>-2.274555</td>\n",
       "      <td>-0.716216</td>\n",
       "      <td>-2.146097</td>\n",
       "    </tr>\n",
       "    <tr>\n",
       "      <th>1</th>\n",
       "      <td>-1.913705</td>\n",
       "      <td>0.677449</td>\n",
       "      <td>1.005911</td>\n",
       "      <td>-0.095866</td>\n",
       "      <td>0.098749</td>\n",
       "      <td>-0.418446</td>\n",
       "      <td>0.895654</td>\n",
       "      <td>1.632825</td>\n",
       "      <td>-0.698344</td>\n",
       "      <td>2.121487</td>\n",
       "      <td>-2.274555</td>\n",
       "      <td>-0.716216</td>\n",
       "      <td>-0.509427</td>\n",
       "    </tr>\n",
       "    <tr>\n",
       "      <th>2</th>\n",
       "      <td>-1.471855</td>\n",
       "      <td>-1.476126</td>\n",
       "      <td>0.035352</td>\n",
       "      <td>-0.095866</td>\n",
       "      <td>-0.849951</td>\n",
       "      <td>-0.418446</td>\n",
       "      <td>-1.009188</td>\n",
       "      <td>0.977728</td>\n",
       "      <td>-0.698344</td>\n",
       "      <td>0.312118</td>\n",
       "      <td>0.973273</td>\n",
       "      <td>-0.716216</td>\n",
       "      <td>-0.509427</td>\n",
       "    </tr>\n",
       "    <tr>\n",
       "      <th>3</th>\n",
       "      <td>0.185079</td>\n",
       "      <td>0.677449</td>\n",
       "      <td>0.035352</td>\n",
       "      <td>-0.666905</td>\n",
       "      <td>-0.189986</td>\n",
       "      <td>-0.418446</td>\n",
       "      <td>0.895654</td>\n",
       "      <td>1.239767</td>\n",
       "      <td>-0.698344</td>\n",
       "      <td>-0.204845</td>\n",
       "      <td>0.973273</td>\n",
       "      <td>-0.716216</td>\n",
       "      <td>-0.509427</td>\n",
       "    </tr>\n",
       "    <tr>\n",
       "      <th>4</th>\n",
       "      <td>0.295542</td>\n",
       "      <td>-1.476126</td>\n",
       "      <td>-0.935208</td>\n",
       "      <td>-0.666905</td>\n",
       "      <td>2.243636</td>\n",
       "      <td>-0.418446</td>\n",
       "      <td>0.895654</td>\n",
       "      <td>0.584670</td>\n",
       "      <td>1.431958</td>\n",
       "      <td>-0.377166</td>\n",
       "      <td>0.973273</td>\n",
       "      <td>-0.716216</td>\n",
       "      <td>-0.509427</td>\n",
       "    </tr>\n",
       "    <tr>\n",
       "      <th>...</th>\n",
       "      <td>...</td>\n",
       "      <td>...</td>\n",
       "      <td>...</td>\n",
       "      <td>...</td>\n",
       "      <td>...</td>\n",
       "      <td>...</td>\n",
       "      <td>...</td>\n",
       "      <td>...</td>\n",
       "      <td>...</td>\n",
       "      <td>...</td>\n",
       "      <td>...</td>\n",
       "      <td>...</td>\n",
       "      <td>...</td>\n",
       "    </tr>\n",
       "    <tr>\n",
       "      <th>297</th>\n",
       "      <td>0.295542</td>\n",
       "      <td>-1.476126</td>\n",
       "      <td>-0.935208</td>\n",
       "      <td>0.475172</td>\n",
       "      <td>-0.086866</td>\n",
       "      <td>-0.418446</td>\n",
       "      <td>0.895654</td>\n",
       "      <td>-1.162254</td>\n",
       "      <td>1.431958</td>\n",
       "      <td>-0.721808</td>\n",
       "      <td>-0.650641</td>\n",
       "      <td>-0.716216</td>\n",
       "      <td>1.127243</td>\n",
       "    </tr>\n",
       "    <tr>\n",
       "      <th>298</th>\n",
       "      <td>-1.030006</td>\n",
       "      <td>0.677449</td>\n",
       "      <td>1.976470</td>\n",
       "      <td>-1.237944</td>\n",
       "      <td>0.387484</td>\n",
       "      <td>-0.418446</td>\n",
       "      <td>0.895654</td>\n",
       "      <td>-0.769196</td>\n",
       "      <td>-0.698344</td>\n",
       "      <td>0.139797</td>\n",
       "      <td>-0.650641</td>\n",
       "      <td>-0.716216</td>\n",
       "      <td>1.127243</td>\n",
       "    </tr>\n",
       "    <tr>\n",
       "      <th>299</th>\n",
       "      <td>1.510627</td>\n",
       "      <td>0.677449</td>\n",
       "      <td>-0.935208</td>\n",
       "      <td>0.703588</td>\n",
       "      <td>-1.076814</td>\n",
       "      <td>2.389793</td>\n",
       "      <td>0.895654</td>\n",
       "      <td>-0.376138</td>\n",
       "      <td>-0.698344</td>\n",
       "      <td>2.035326</td>\n",
       "      <td>-0.650641</td>\n",
       "      <td>1.241225</td>\n",
       "      <td>1.127243</td>\n",
       "    </tr>\n",
       "    <tr>\n",
       "      <th>300</th>\n",
       "      <td>0.295542</td>\n",
       "      <td>0.677449</td>\n",
       "      <td>-0.935208</td>\n",
       "      <td>-0.095866</td>\n",
       "      <td>-2.355497</td>\n",
       "      <td>-0.418446</td>\n",
       "      <td>0.895654</td>\n",
       "      <td>-1.511639</td>\n",
       "      <td>1.431958</td>\n",
       "      <td>0.139797</td>\n",
       "      <td>-0.650641</td>\n",
       "      <td>0.262505</td>\n",
       "      <td>1.127243</td>\n",
       "    </tr>\n",
       "    <tr>\n",
       "      <th>301</th>\n",
       "      <td>0.295542</td>\n",
       "      <td>-1.476126</td>\n",
       "      <td>0.035352</td>\n",
       "      <td>-0.095866</td>\n",
       "      <td>-0.189986</td>\n",
       "      <td>-0.418446</td>\n",
       "      <td>-1.009188</td>\n",
       "      <td>1.065074</td>\n",
       "      <td>-0.698344</td>\n",
       "      <td>-0.894128</td>\n",
       "      <td>-0.650641</td>\n",
       "      <td>0.262505</td>\n",
       "      <td>-0.509427</td>\n",
       "    </tr>\n",
       "  </tbody>\n",
       "</table>\n",
       "<p>302 rows × 13 columns</p>\n",
       "</div>"
      ],
      "text/plain": [
       "          age       sex        cp  trestbps      chol       fbs   restecg  \\\n",
       "0    0.958315  0.677449  1.976470  0.760692 -0.251858  2.389793 -1.009188   \n",
       "1   -1.913705  0.677449  1.005911 -0.095866  0.098749 -0.418446  0.895654   \n",
       "2   -1.471855 -1.476126  0.035352 -0.095866 -0.849951 -0.418446 -1.009188   \n",
       "3    0.185079  0.677449  0.035352 -0.666905 -0.189986 -0.418446  0.895654   \n",
       "4    0.295542 -1.476126 -0.935208 -0.666905  2.243636 -0.418446  0.895654   \n",
       "..        ...       ...       ...       ...       ...       ...       ...   \n",
       "297  0.295542 -1.476126 -0.935208  0.475172 -0.086866 -0.418446  0.895654   \n",
       "298 -1.030006  0.677449  1.976470 -1.237944  0.387484 -0.418446  0.895654   \n",
       "299  1.510627  0.677449 -0.935208  0.703588 -1.076814  2.389793  0.895654   \n",
       "300  0.295542  0.677449 -0.935208 -0.095866 -2.355497 -0.418446  0.895654   \n",
       "301  0.295542 -1.476126  0.035352 -0.095866 -0.189986 -0.418446 -1.009188   \n",
       "\n",
       "      thalach     exang   oldpeak     slope        ca      thal  \n",
       "0    0.016920 -0.698344  1.087561 -2.274555 -0.716216 -2.146097  \n",
       "1    1.632825 -0.698344  2.121487 -2.274555 -0.716216 -0.509427  \n",
       "2    0.977728 -0.698344  0.312118  0.973273 -0.716216 -0.509427  \n",
       "3    1.239767 -0.698344 -0.204845  0.973273 -0.716216 -0.509427  \n",
       "4    0.584670  1.431958 -0.377166  0.973273 -0.716216 -0.509427  \n",
       "..        ...       ...       ...       ...       ...       ...  \n",
       "297 -1.162254  1.431958 -0.721808 -0.650641 -0.716216  1.127243  \n",
       "298 -0.769196 -0.698344  0.139797 -0.650641 -0.716216  1.127243  \n",
       "299 -0.376138 -0.698344  2.035326 -0.650641  1.241225  1.127243  \n",
       "300 -1.511639  1.431958  0.139797 -0.650641  0.262505  1.127243  \n",
       "301  1.065074 -0.698344 -0.894128 -0.650641  0.262505 -0.509427  \n",
       "\n",
       "[302 rows x 13 columns]"
      ]
     },
     "execution_count": 18,
     "metadata": {},
     "output_type": "execute_result"
    }
   ],
   "source": [
    "X_standardized = pd.DataFrame(X_standardized, columns = list(X.columns))\n",
    "X_standardized"
   ]
  },
  {
   "cell_type": "code",
   "execution_count": 19,
   "id": "58881247",
   "metadata": {},
   "outputs": [
    {
     "data": {
      "image/png": "[encoded data removed]",
      "text/plain": [
       "<Figure size 1080x432 with 1 Axes>"
      ]
     },
     "metadata": {
      "needs_background": "light"
     },
     "output_type": "display_data"
    }
   ],
   "source": [
    "# visualizing the scaled features\n",
    "\n",
    "plt.figure(figsize = (15,6))\n",
    "sns.boxenplot(data = X_standardized)\n",
    "plt.xticks(rotation = 90)\n",
    "plt.show()"
   ]
  },
  {
   "cell_type": "markdown",
   "id": "6f5c9967",
   "metadata": {},
   "source": [
    "### Train Test Split, Model Building"
   ]
  },
  {
   "cell_type": "code",
   "execution_count": 20,
   "id": "b4f4a2d0",
   "metadata": {},
   "outputs": [],
   "source": [
    "# duplicates not dropped, outlier dropped, X standardized\n",
    "\n",
    "X_train, X_test, y_train, y_test = train_test_split(X_standardized, y, test_size = 0.2, random_state = 13, stratify = y)"
   ]
  },
  {
   "cell_type": "code",
   "execution_count": 28,
   "id": "8a189bff",
   "metadata": {},
   "outputs": [
    {
     "data": {
      "text/plain": [
       "SVC()"
      ]
     },
     "execution_count": 28,
     "metadata": {},
     "output_type": "execute_result"
    }
   ],
   "source": [
    "model = SVC()\n",
    "model.fit(X_train, y_train)"
   ]
  },
  {
   "cell_type": "code",
   "execution_count": 29,
   "id": "be452cb9",
   "metadata": {},
   "outputs": [
    {
     "name": "stdout",
     "output_type": "stream",
     "text": [
      "SVM training accuracy: 0.9004149377593361\n",
      "SVM testing accuracy: 0.9508196721311475\n",
      "\n"
     ]
    }
   ],
   "source": [
    "print(f\"SVM training accuracy: {model.score(X_train, y_train)}\")  \n",
    "print(f\"SVM testing accuracy: {model.score(X_test, y_test)}\\n\") "
   ]
  },
  {
   "cell_type": "code",
   "execution_count": 30,
   "id": "55eb5237",
   "metadata": {},
   "outputs": [
    {
     "name": "stdout",
     "output_type": "stream",
     "text": [
      "              precision    recall  f1-score   support\n",
      "\n",
      "           0       0.93      0.96      0.95        28\n",
      "           1       0.97      0.94      0.95        33\n",
      "\n",
      "    accuracy                           0.95        61\n",
      "   macro avg       0.95      0.95      0.95        61\n",
      "weighted avg       0.95      0.95      0.95        61\n",
      "\n"
     ]
    }
   ],
   "source": [
    "print(classification_report(y_test, model.predict(X_test)))"
   ]
  },
  {
   "cell_type": "code",
   "execution_count": 31,
   "id": "277f9b7d",
   "metadata": {},
   "outputs": [
    {
     "data": {
      "text/plain": [
       "<AxesSubplot: >"
      ]
     },
     "execution_count": 31,
     "metadata": {},
     "output_type": "execute_result"
    },
    {
     "data": {
      "image/png": "[encoded data removed]",
      "text/plain": [
       "<Figure size 432x288 with 2 Axes>"
      ]
     },
     "metadata": {
      "needs_background": "light"
     },
     "output_type": "display_data"
    }
   ],
   "source": [
    "cm = confusion_matrix(y_test, model.predict(X_test))\n",
    "sns.heatmap(cm, annot = True, cmap = 'Blues')"
   ]
  },
  {
   "cell_type": "code",
   "execution_count": 32,
   "id": "98a01293",
   "metadata": {},
   "outputs": [
    {
     "data": {
      "text/plain": [
       "array([1, 0, 1, 0, 0, 0, 0, 1, 1, 1, 0, 1, 1, 0, 1, 0, 1, 1, 0, 1, 0, 1,\n",
       "       1, 1, 1, 1, 0, 1, 1, 1, 1, 1, 1, 0, 0, 0, 0, 1, 0, 1, 0, 1, 0, 0,\n",
       "       0, 1, 1, 1, 0, 1, 0, 0, 0, 0, 1, 0, 1, 0, 0, 0, 1], dtype=int64)"
      ]
     },
     "execution_count": 32,
     "metadata": {},
     "output_type": "execute_result"
    }
   ],
   "source": [
    "model.predict(X_test)"
   ]
  },
  {
   "cell_type": "markdown",
   "id": "8e62700b",
   "metadata": {},
   "source": [
    "#### Prediction system"
   ]
  },
  {
   "cell_type": "code",
   "execution_count": 33,
   "id": "354bfea7",
   "metadata": {},
   "outputs": [],
   "source": [
    "data = [[63,1,3,145,233,1,0,150,0,2.3,0,0,1]]"
   ]
  },
  {
   "cell_type": "code",
   "execution_count": 34,
   "id": "eb28cca0",
   "metadata": {},
   "outputs": [],
   "source": [
    "sample_df = pd.DataFrame(data,columns=['age','sex','cp','trestbps','chol','fbs','restecg','thalach','exang','oldpeak','slope','ca','thal'])"
   ]
  },
  {
   "cell_type": "code",
   "execution_count": 35,
   "id": "ee57bca2",
   "metadata": {},
   "outputs": [
    {
     "data": {
      "text/html": [
       "<div>\n",
       "<style scoped>\n",
       "    .dataframe tbody tr th:only-of-type {\n",
       "        vertical-align: middle;\n",
       "    }\n",
       "\n",
       "    .dataframe tbody tr th {\n",
       "        vertical-align: top;\n",
       "    }\n",
       "\n",
       "    .dataframe thead th {\n",
       "        text-align: right;\n",
       "    }\n",
       "</style>\n",
       "<table border=\"1\" class=\"dataframe\">\n",
       "  <thead>\n",
       "    <tr style=\"text-align: right;\">\n",
       "      <th></th>\n",
       "      <th>age</th>\n",
       "      <th>sex</th>\n",
       "      <th>cp</th>\n",
       "      <th>trestbps</th>\n",
       "      <th>chol</th>\n",
       "      <th>fbs</th>\n",
       "      <th>restecg</th>\n",
       "      <th>thalach</th>\n",
       "      <th>exang</th>\n",
       "      <th>oldpeak</th>\n",
       "      <th>slope</th>\n",
       "      <th>ca</th>\n",
       "      <th>thal</th>\n",
       "    </tr>\n",
       "  </thead>\n",
       "  <tbody>\n",
       "    <tr>\n",
       "      <th>0</th>\n",
       "      <td>63</td>\n",
       "      <td>1</td>\n",
       "      <td>3</td>\n",
       "      <td>145</td>\n",
       "      <td>233</td>\n",
       "      <td>1</td>\n",
       "      <td>0</td>\n",
       "      <td>150</td>\n",
       "      <td>0</td>\n",
       "      <td>2.3</td>\n",
       "      <td>0</td>\n",
       "      <td>0</td>\n",
       "      <td>1</td>\n",
       "    </tr>\n",
       "  </tbody>\n",
       "</table>\n",
       "</div>"
      ],
      "text/plain": [
       "   age  sex  cp  trestbps  chol  fbs  restecg  thalach  exang  oldpeak  slope  \\\n",
       "0   63    1   3       145   233    1        0      150      0      2.3      0   \n",
       "\n",
       "   ca  thal  \n",
       "0   0     1  "
      ]
     },
     "execution_count": 35,
     "metadata": {},
     "output_type": "execute_result"
    }
   ],
   "source": [
    "sample_df"
   ]
  },
  {
   "cell_type": "code",
   "execution_count": 36,
   "id": "7a35fd02",
   "metadata": {},
   "outputs": [],
   "source": [
    "output = model.predict(sample_df)"
   ]
  },
  {
   "cell_type": "code",
   "execution_count": 37,
   "id": "5994e015",
   "metadata": {},
   "outputs": [
    {
     "data": {
      "text/plain": [
       "array([1], dtype=int64)"
      ]
     },
     "execution_count": 37,
     "metadata": {},
     "output_type": "execute_result"
    }
   ],
   "source": [
    "output"
   ]
  },
  {
   "cell_type": "markdown",
   "id": "5dd76e32",
   "metadata": {},
   "source": [
    "#### Saving the model (Pickling)"
   ]
  },
  {
   "cell_type": "code",
   "execution_count": 42,
   "id": "8734e132",
   "metadata": {},
   "outputs": [],
   "source": [
    "import pickle"
   ]
  },
  {
   "cell_type": "code",
   "execution_count": 43,
   "id": "24127457",
   "metadata": {},
   "outputs": [],
   "source": [
    "filename = 'model_file.pkl';"
   ]
  },
  {
   "cell_type": "code",
   "execution_count": 44,
   "id": "b07f1d88",
   "metadata": {},
   "outputs": [],
   "source": [
    "pickle.dump(model, open(filename, 'wb'))    # write permission # model is the svm models name"
   ]
  },
  {
   "cell_type": "code",
   "execution_count": 45,
   "id": "175fd491",
   "metadata": {},
   "outputs": [],
   "source": [
    "# loading the model \n",
    "\n",
    "load_model = pickle.load(open(filename, 'rb'))"
   ]
  },
  {
   "cell_type": "code",
   "execution_count": null,
   "id": "f2ab26da",
   "metadata": {},
   "outputs": [],
   "source": []
  },
  {
   "cell_type": "code",
   "execution_count": null,
   "id": "daad30d8",
   "metadata": {},
   "outputs": [],
   "source": []
  },
  {
   "cell_type": "code",
   "execution_count": 45,
   "id": "17192ab4",
   "metadata": {},
   "outputs": [
    {
     "data": {
      "text/plain": [
       "0.9508196721311475"
      ]
     },
     "execution_count": 45,
     "metadata": {},
     "output_type": "execute_result"
    }
   ],
   "source": [
    "# trying it out on a test set\n",
    "\n",
    "load_model.score(X_test,y_test)"
   ]
  },
  {
   "cell_type": "code",
   "execution_count": null,
   "id": "be317c7d",
   "metadata": {},
   "outputs": [],
   "source": []
  },
  {
   "cell_type": "code",
   "execution_count": null,
   "id": "4c75ea99",
   "metadata": {},
   "outputs": [],
   "source": []
  },
  {
   "cell_type": "code",
   "execution_count": null,
   "id": "32e4a6b8",
   "metadata": {},
   "outputs": [],
   "source": []
  },
  {
   "cell_type": "code",
   "execution_count": null,
   "id": "07376be3",
   "metadata": {},
   "outputs": [],
   "source": []
  },
  {
   "cell_type": "code",
   "execution_count": null,
   "id": "2569455b",
   "metadata": {},
   "outputs": [],
   "source": []
  },
  {
   "cell_type": "code",
   "execution_count": null,
   "id": "b68cea87",
   "metadata": {},
   "outputs": [],
   "source": []
  },
  {
   "cell_type": "code",
   "execution_count": null,
   "id": "c862d3cd",
   "metadata": {},
   "outputs": [],
   "source": []
  }
 ],
 "metadata": {
  "kernelspec": {
   "display_name": "Python 3 (ipykernel)",
   "language": "python",
   "name": "python3"
  },
  "language_info": {
   "codemirror_mode": {
    "name": "ipython",
    "version": 3
   },
   "file_extension": ".py",
   "mimetype": "text/x-python",
   "name": "python",
   "nbconvert_exporter": "python",
   "pygments_lexer": "ipython3",
   "version": "3.10.0"
  }
 },
 "nbformat": 4,
 "nbformat_minor": 5
}
